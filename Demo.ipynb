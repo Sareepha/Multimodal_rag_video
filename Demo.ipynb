{
 "cells": [
  {
   "cell_type": "code",
   "execution_count": null,
   "id": "f6dd1a5a-feaa-44f4-96e7-c9ab6dd69ed8",
   "metadata": {},
   "outputs": [],
   "source": [
    "\n",
    "from preprocessing_vector_store_videos import ingest_data_to_lancedb\n",
    "import json\n",
    "import os\n",
    "\n",
    "# ตัวอย่าง Metadata\n",
    "metadata_sample = [\n",
    "    {\n",
    "        \"extracted_frame_path\": \"sample_frame.jpg\",\n",
    "        \"transcript\": \"Sample transcript\",\n",
    "        \"video_segment_id\": 0,\n",
    "        \"video_path\": \"path_to_video.mp4\",\n",
    "        \"batch_id\": \"batch_12345\"\n",
    "    }\n",
    "]  \n",
    "\n",
    "# บันทึก Metadata ลงไฟล์ JSON\n",
    "metadata_path = \"./shared_data/lancedb/sample_metadata.json\"\n",
    "os.makedirs(os.path.dirname(metadata_path), exist_ok=True)\n",
    "with open(metadata_path, \"w\") as f:\n",
    "    json.dump(metadata_sample, f)\n",
    "\n",
    "# สร้างตารางใน LanceDB\n",
    "ingest_data_to_lancedb([metadata_path])\n",
    "print(\"Table test_tbl created successfully.\")\n",
    "\n",
    "\n"
   ]
  },
  {
   "cell_type": "code",
   "execution_count": null,
   "id": "df06a56f-60d7-4281-bbc2-9306d7fbbf7e",
   "metadata": {
    "scrolled": true
   },
   "outputs": [],
   "source": [
    "from gradio_utils import get_demo\n",
    "\n",
    "debug = False\n",
    "\n",
    "\n",
    "demo = get_demo()\n",
    "demo.launch(server_name=\"192.168.10.130\", server_port=8080, debug=debug)\n"
   ]
  },
  {
   "cell_type": "code",
   "execution_count": null,
   "id": "4d6f5b2e-fac7-48f5-abca-064d9101f7b8",
   "metadata": {},
   "outputs": [],
   "source": []
  }
 ],
 "metadata": {
  "kernelspec": {
   "display_name": "Python 3 (ipykernel)",
   "language": "python",
   "name": "python3"
  },
  "language_info": {
   "codemirror_mode": {
    "name": "ipython",
    "version": 3
   },
   "file_extension": ".py",
   "mimetype": "text/x-python",
   "name": "python",
   "nbconvert_exporter": "python",
   "pygments_lexer": "ipython3",
   "version": "3.11.11"
  }
 },
 "nbformat": 4,
 "nbformat_minor": 5
}
